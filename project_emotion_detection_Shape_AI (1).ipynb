{
  "nbformat": 4,
  "nbformat_minor": 0,
  "metadata": {
    "colab": {
      "name": "project emotion detection Shape AI.ipynb",
      "provenance": []
    },
    "kernelspec": {
      "name": "python3",
      "display_name": "Python 3"
    },
    "language_info": {
      "name": "python"
    }
  },
  "cells": [
    {
      "cell_type": "markdown",
      "metadata": {
        "id": "EqqRDwwlCwJ4"
      },
      "source": [
        "## For opening Camera\n",
        "you capture your image here"
      ]
    },
    {
      "cell_type": "code",
      "metadata": {
        "id": "QwolK7Y2CrRo"
      },
      "source": [
        "from IPython.display import display, Javascript\n",
        "from google.colab.output import eval_js\n",
        "from base64 import b64decode\n",
        "\n",
        "def take_photo(filename='photo.jpg', quality=0.8):\n",
        "  js = Javascript('''\n",
        "    async function takePhoto(quality) {\n",
        "      const div = document.createElement('div');\n",
        "      const capture = document.createElement('button');\n",
        "      capture.textContent = 'Capture';\n",
        "      div.appendChild(capture);\n",
        "\n",
        "      const video = document.createElement('video');\n",
        "      video.style.display = 'block';\n",
        "      const stream = await navigator.mediaDevices.getUserMedia({video: true});\n",
        "\n",
        "      document.body.appendChild(div);\n",
        "      div.appendChild(video);\n",
        "      video.srcObject = stream;\n",
        "      await video.play();\n",
        "\n",
        "      // Resize the output to fit the video element.\n",
        "      google.colab.output.setIframeHeight(document.documentElement.scrollHeight, true);\n",
        "\n",
        "      // Wait for Capture to be clicked.\n",
        "      await new Promise((resolve) => capture.onclick = resolve);\n",
        "\n",
        "      const canvas = document.createElement('canvas');\n",
        "      canvas.width = video.videoWidth;\n",
        "      canvas.height = video.videoHeight;\n",
        "      canvas.getContext('2d').drawImage(video, 0, 0);\n",
        "      stream.getVideoTracks()[0].stop();\n",
        "      div.remove();\n",
        "      return canvas.toDataURL('image/jpeg', quality);\n",
        "    }\n",
        "    ''')\n",
        "  display(js)\n",
        "  data = eval_js('takePhoto({})'.format(quality))\n",
        "  binary = b64decode(data.split(',')[1])\n",
        "  with open(filename, 'wb') as f:\n",
        "    f.write(binary)\n",
        "  return filename"
      ],
      "execution_count": 129,
      "outputs": []
    },
    {
      "cell_type": "code",
      "metadata": {
        "id": "w_HATcfECrRs"
      },
      "source": [
        "from IPython.display import Image\n",
        "try:\n",
        "  filename = take_photo()\n",
        "  print('Saved to {}'.format(filename))\n",
        "  \n",
        "  # Show the image which was just taken.\n",
        "  display(Image(filename))\n",
        "except Exception as err:\n",
        "  # Errors will be thrown if the user does not have a webcam or if they do not\n",
        "  # grant the page permission to access it.\n",
        "  print(str(err))"
      ],
      "execution_count": null,
      "outputs": []
    },
    {
      "cell_type": "markdown",
      "metadata": {
        "id": "0CI6KW0NE5xR"
      },
      "source": [
        "## Importing the libraries"
      ]
    },
    {
      "cell_type": "code",
      "metadata": {
        "id": "o8APtDAVDPpz"
      },
      "source": [
        "import numpy as np\n",
        "import pandas as pd\n",
        "import os\n",
        "\n",
        "import matplotlib.pyplot as plt\n",
        "import seaborn as sns\n",
        "import tensorflow as tf\n",
        "import keras\n",
        "from keras.preprocessing import image\n",
        "from keras.models import Sequential\n",
        "from keras.layers import Conv2D, MaxPool2D, Flatten,Dense,Dropout,BatchNormalization\n",
        "from tensorflow.keras.preprocessing.image import ImageDataGenerator\n",
        "import cv2\n",
        "from tensorflow.keras.applications import VGG16, InceptionResNetV2 # I tried using this but was not be able \n",
        "from keras import regularizers\n",
        "from tensorflow.keras.optimizers import Adam,RMSprop,SGD,Adamax"
      ],
      "execution_count": 144,
      "outputs": []
    },
    {
      "cell_type": "markdown",
      "metadata": {
        "id": "usROaK2MEj0d"
      },
      "source": [
        "## Code for DL training of the dataset\n",
        "Here you can see how i trained my model"
      ]
    },
    {
      "cell_type": "code",
      "metadata": {
        "id": "tuKAC4UyDPnW"
      },
      "source": [
        "train_dir = \"../input/emotion-detection-fer/train\" \n",
        "test_dir = \"../input/emotion-detection-fer/test\" "
      ],
      "execution_count": null,
      "outputs": []
    },
    {
      "cell_type": "code",
      "metadata": {
        "id": "xY0th6kWDPkk"
      },
      "source": [
        "img_size = 48"
      ],
      "execution_count": null,
      "outputs": []
    },
    {
      "cell_type": "code",
      "metadata": {
        "id": "_Hlod8u3DPh3"
      },
      "source": [
        "train_datagen = ImageDataGenerator(#rotation_range = 180,        using Image DATA generator to transform the images\n",
        "                                         width_shift_range = 0.1,\n",
        "                                         height_shift_range = 0.1,\n",
        "                                         horizontal_flip = True,\n",
        "                                         rescale = 1./255,\n",
        "                                         #zoom_range = 0.2,\n",
        "                                         validation_split = 0.2\n",
        "                                        )\n",
        "validation_datagen = ImageDataGenerator(rescale = 1./255,\n",
        "                                         validation_split = 0.2)"
      ],
      "execution_count": null,
      "outputs": []
    },
    {
      "cell_type": "code",
      "metadata": {
        "id": "oMOydIuyDPfQ"
      },
      "source": [
        "train_generator = train_datagen.flow_from_directory(directory = train_dir,                   # flowing the data from the directory through the datagen object for transformation\n",
        "                                                    target_size = (img_size,img_size),\n",
        "                                                    batch_size = 64,\n",
        "                                                    color_mode = \"grayscale\",\n",
        "                                                    class_mode = \"categorical\",\n",
        "                                                    subset = \"training\"\n",
        "                                                   )\n",
        "validation_generator = validation_datagen.flow_from_directory( directory = test_dir,\n",
        "                                                              target_size = (img_size,img_size),\n",
        "                                                              batch_size = 64,\n",
        "                                                              color_mode = \"grayscale\",\n",
        "                                                              class_mode = \"categorical\",\n",
        "                                                              subset = \"validation\"\n",
        "                                                             )"
      ],
      "execution_count": null,
      "outputs": []
    },
    {
      "cell_type": "code",
      "metadata": {
        "id": "5Zcn1wOEDPck"
      },
      "source": [
        "model= tf.keras.models.Sequential()\n",
        "model.add(Conv2D(32, kernel_size=(3, 3), padding='same', activation='relu', input_shape=(48, 48,1)))\n",
        "model.add(Conv2D(64,(3,3), padding='same', activation='relu' ))\n",
        "model.add(BatchNormalization())\n",
        "model.add(MaxPool2D(pool_size=(2, 2)))\n",
        "model.add(Dropout(0.25))\n",
        "\n",
        "model.add(Conv2D(128,(5,5), padding='same', activation='relu'))\n",
        "model.add(BatchNormalization())\n",
        "model.add(MaxPool2D(pool_size=(2, 2)))\n",
        "model.add(Dropout(0.25))\n",
        "    \n",
        "model.add(Conv2D(512,(3,3), padding='same', activation='relu', kernel_regularizer=regularizers.l2(0.01)))\n",
        "model.add(BatchNormalization())\n",
        "model.add(MaxPool2D(pool_size=(2, 2)))\n",
        "model.add(Dropout(0.25))\n",
        "\n",
        "model.add(Conv2D(512,(3,3), padding='same', activation='relu', kernel_regularizer=regularizers.l2(0.01)))\n",
        "model.add(BatchNormalization())\n",
        "model.add(MaxPool2D(pool_size=(2, 2)))\n",
        "model.add(Dropout(0.25))\n",
        "\n",
        "model.add(Flatten()) \n",
        "model.add(Dense(256,activation = 'relu'))\n",
        "model.add(BatchNormalization())\n",
        "model.add(Dropout(0.25))\n",
        "    \n",
        "model.add(Dense(512,activation = 'relu'))\n",
        "model.add(BatchNormalization())\n",
        "model.add(Dropout(0.25))\n",
        "\n",
        "model.add(Dense(7, activation='softmax'))\n",
        "\n",
        "model.compile(                                    # Compiling the model \n",
        "    optimizer = Adam(lr=0.0001), \n",
        "    loss='categorical_crossentropy', \n",
        "    metrics=['accuracy']\n",
        "  )"
      ],
      "execution_count": null,
      "outputs": []
    },
    {
      "cell_type": "code",
      "metadata": {
        "id": "W4Oy2bn9DPZ-"
      },
      "source": [
        "epochs = 60\n",
        "batch_size = 64"
      ],
      "execution_count": null,
      "outputs": []
    },
    {
      "cell_type": "code",
      "metadata": {
        "id": "gj12zduMDPXb"
      },
      "source": [
        "model.summary()"
      ],
      "execution_count": null,
      "outputs": []
    },
    {
      "cell_type": "code",
      "metadata": {
        "id": "EFEq51P1DPS8"
      },
      "source": [
        "history = model.fit(x = train_generator,epochs = epochs,validation_data = validation_generator)"
      ],
      "execution_count": null,
      "outputs": []
    },
    {
      "cell_type": "code",
      "metadata": {
        "id": "fVLzh157FTYR"
      },
      "source": [
        "model.save('model_optimal.h5')"
      ],
      "execution_count": null,
      "outputs": []
    },
    {
      "cell_type": "markdown",
      "metadata": {
        "id": "0y8uGaiJFn3L"
      },
      "source": [
        "## Actual code that you can run :)"
      ]
    },
    {
      "cell_type": "code",
      "metadata": {
        "id": "hUjlv3m2GDoc"
      },
      "source": [
        "new_model = tf.keras.models.load_model('/content/model_optimal (2).h5')  #since i have already trained the model you can find the model in my GITHUB repo and upload it here"
      ],
      "execution_count": 150,
      "outputs": []
    },
    {
      "cell_type": "code",
      "metadata": {
        "id": "Wal1Q8usU_By"
      },
      "source": [
        "label_dict = {0:'Angry',1:'Disgust',2:'Fear',3:'Happy',4:'Neutral',5:'Sad',6:'Surprise'}"
      ],
      "execution_count": 151,
      "outputs": []
    },
    {
      "cell_type": "code",
      "metadata": {
        "colab": {
          "base_uri": "https://localhost:8080/",
          "height": 284
        },
        "id": "hCHGu4e-U1Su",
        "outputId": "67e7e8ee-e5f0-4619-e9b4-082af3847239"
      },
      "source": [
        "img = image.load_img(\"/content/photo.jpg\",target_size = (48,48),color_mode = \"grayscale\")\n",
        "img = np.array(img)\n",
        "plt.imshow(img)\n",
        "print(img.shape)"
      ],
      "execution_count": 152,
      "outputs": [
        {
          "output_type": "stream",
          "name": "stdout",
          "text": [
            "(48, 48)\n"
          ]
        },
        {
          "output_type": "display_data",
          "data": {
            "image/png": "[encoded data removed]",
            "text/plain": [
              "<Figure size 432x288 with 1 Axes>"
            ]
          },
          "metadata": {
            "needs_background": "light"
          }
        }
      ]
    },
    {
      "cell_type": "code",
      "metadata": {
        "colab": {
          "base_uri": "https://localhost:8080/"
        },
        "id": "uSejC1szU5t9",
        "outputId": "ad355d46-c63b-4499-ecb8-d6d31b081e26"
      },
      "source": [
        "img = np.expand_dims(img,axis = 0) #makes image shape (1,48,48)\n",
        "img = img.reshape(1,48,48,1)\n",
        "result = new_model.predict(img)\n",
        "result = list(result[0])\n",
        "print(result)"
      ],
      "execution_count": 153,
      "outputs": [
        {
          "output_type": "stream",
          "name": "stdout",
          "text": [
            "[0.95586663, 0.0, 6.178816e-09, 0.0, 4.8804987e-34, 0.04413341, 0.0]\n"
          ]
        }
      ]
    },
    {
      "cell_type": "code",
      "metadata": {
        "colab": {
          "base_uri": "https://localhost:8080/"
        },
        "id": "EBR4faKRVGiL",
        "outputId": "d17b56f6-0deb-463e-b076-5f01dfce5d6b"
      },
      "source": [
        "img_index = result.index(max(result))\n",
        "print(label_dict[img_index])"
      ],
      "execution_count": 154,
      "outputs": [
        {
          "output_type": "stream",
          "name": "stdout",
          "text": [
            "Angry\n"
          ]
        }
      ]
    },
    {
      "cell_type": "code",
      "metadata": {
        "colab": {
          "base_uri": "https://localhost:8080/",
          "height": 231
        },
        "id": "ikkI__FvusfU",
        "outputId": "1fa54db6-c40f-4cfd-fe93-68e000978635"
      },
      "source": [
        "# This is the openCV code for live face-emotion detection\n",
        "# here i have used haarcascade to find the face and crop it\n",
        "import cv2\n",
        "\n",
        "\n",
        "path = \"haarcascade_frontalface_default.xml\"\n",
        "font_scale = 1.5\n",
        "font = cv2.FONT_HERSHEY_PLAIN\n",
        "\n",
        "rectangle_bgr = (255,255,255)\n",
        "\n",
        "img = np.zeros((500,500))\n",
        "\n",
        "text = \"some\"\n",
        "\n",
        "(text_width, text_height) = cv2.getTextSize(text, font, fontScale = font_scale, thickness = 1)[0]\n",
        "\n",
        "text_offset_x = 10\n",
        "text_offset_y = img.shape[0] - 25\n",
        "\n",
        "box_coords = ((text_offset_x, text_offset_y), (text_offset_x + text_width + 2, text_offset_y - text_height - 2))\n",
        "cv2.rectangle(img, box_coords[0], box_coords[1], rectangle_bgr, cv2.FILLED)\n",
        "cv2.putText(img, text, (text_offset_x, text_offset_y), font, fontScale = font_scale, color = (0,0,0), thickness =1)\n",
        "\n",
        "cap = cv2.VideoCapture(1)\n",
        "\n",
        "if not cap.isOpened():\n",
        "    cap = cv2.VideoCapture(0)\n",
        "if not cap.isOpened():\n",
        "    raise IOError(\"Cannot open Webcam\")\n",
        "    \n",
        "while True:\n",
        "    ref, frame = cap.read()\n",
        "    \n",
        "    faceCascade = cv2.CascadeClassifier(cv2.data.haarcascades + 'haarcascade_frontalface_default.xml')\n",
        "    grey = cv2.cvtColor(frame, cv2.COLOR_BGR2GRAY)\n",
        "    faces = faceCascade.detectMultiScale(gray, 1.1, 4)\n",
        "    for x, y, w, h in faces:\n",
        "        roi_gray = gray[y:y+h, x:x+w]\n",
        "        roi_color = frame[y:y+h, x:x+w]\n",
        "        cv2.rectangle(frame, (x,y), (x+w, y+h), (255, 0, 0), 2)\n",
        "        facess = faceCascade.detectMultiScale(roi_gray)\n",
        "        if len(facess) == 0:\n",
        "            print(\"Face not detected\")\n",
        "        else:\n",
        "            for (ex,ey,ew,eh) in facess:\n",
        "                face_roi = roi_gray[ey: ey+eh, ex : ex+ew]\n",
        "                \n",
        "    img = np.expand_dims(roi_gray,axis = 0) #makes image shape (1,48,48)\n",
        "    img = img.reshape(1,48,48,1)\n",
        "    result = new_model.predict(img)\n",
        "    Predictions = list(result[0])\n",
        "    \n",
        "    font = cv2.FONT_HERSHEY_SIMPLEX\n",
        "    \n",
        "    Predictions = new_model.predict(final_image)\n",
        "    \n",
        "    font_scale = 1.5\n",
        "    \n",
        "    font = cv2.FONT_HERSHEY_PLAIN\n",
        "    \n",
        "    if(np.argmax(Predictions) == 0):\n",
        "        status = \"Angry\"\n",
        "        \n",
        "        x1, y1, w1, h1 = 0,0,175,75\n",
        "        cv2.rectangle(frame, (x1, x1), (x1+ w1, y1 + h1), (0,0,0), -1)\n",
        "        \n",
        "        cv2.putText(frame, status, (x1 + int(w1/10), y1 + int(h1/10)), cv2.FONT_HERSHEY_SIMPLEX, 0.7, (0,0,225), 2)\n",
        "        \n",
        "        cv2.putText(frame, status, (100,150), font, 3, (0,0,225), 2, cv2.LINE_4)\n",
        "        \n",
        "        cv2.rectangle(frame, (x,y), (x + w, y + h), (0, 0, 225))\n",
        "    elif(np.argmax(Predictions) == 1):\n",
        "        status = \"Disgust\"\n",
        "        \n",
        "        x1, y1, w1, h1 = 0,0,175,75\n",
        "        cv2.rectangle(frame, (x1, x1), (x1+ w1, y1 + h1), (0,0,0), -1)\n",
        "        \n",
        "        cv2.putText(frame, status, (x1 + int(w1/10), y1 + int(h1/10)), cv2.FONT_HERSHEY_SIMPLEX, 0.7, (0,0,225), 2)\n",
        "        \n",
        "        cv2.putText(frame, status, (100,150), font, 3, (0,0,225), 2, cv2.LINE_4)\n",
        "        \n",
        "        cv2.rectangle(frame, (x,y), (x + w, y + h), (0, 0, 225))\n",
        "    elif(np.argmax(Predictions) == 2):\n",
        "        status = \"Fear\"\n",
        "        \n",
        "        x1, y1, w1, h1 = 0,0,175,75\n",
        "        cv2.rectangle(frame, (x1, x1), (x1+ w1, y1 + h1), (0,0,0), -1)\n",
        "        \n",
        "        cv2.putText(frame, status, (x1 + int(w1/10), y1 + int(h1/10)), cv2.FONT_HERSHEY_SIMPLEX, 0.7, (0,0,225), 2)\n",
        "        \n",
        "        cv2.putText(frame, status, (100,150), font, 3, (0,0,225), 2, cv2.LINE_4)\n",
        "        \n",
        "        cv2.rectangle(frame, (x,y), (x + w, y + h), (0, 0, 225))\n",
        "    elif(np.argmax(Predictions) == 3):\n",
        "        status = \"Happy\"\n",
        "        \n",
        "        x1, y1, w1, h1 = 0,0,175,75\n",
        "        cv2.rectangle(frame, (x1, x1), (x1+ w1, y1 + h1), (0,0,0), -1)\n",
        "        \n",
        "        cv2.putText(frame, status, (x1 + int(w1/10), y1 + int(h1/10)), cv2.FONT_HERSHEY_SIMPLEX, 0.7, (0,0,225), 2)\n",
        "        \n",
        "        cv2.putText(frame, status, (100,150), font, 3, (0,0,225), 2, cv2.LINE_4)\n",
        "        \n",
        "        cv2.rectangle(frame, (x,y), (x + w, y + h), (0, 0, 225))\n",
        "    elif(np.argmax(Predictions) == 5):\n",
        "        status = \"Sad\"\n",
        "        \n",
        "        x1, y1, w1, h1 = 0,0,175,75\n",
        "        cv2.rectangle(frame, (x1, x1), (x1+ w1, y1 + h1), (0,0,0), -1)\n",
        "        \n",
        "        cv2.putText(frame, status, (x1 + int(w1/10), y1 + int(h1/10)), cv2.FONT_HERSHEY_SIMPLEX, 0.7, (0,0,225), 2)\n",
        "        \n",
        "        cv2.putText(frame, status, (100,150), font, 3, (0,0,225), 2, cv2.LINE_4)\n",
        "        \n",
        "        cv2.rectangle(frame, (x,y), (x + w, y + h), (0, 0, 225))\n",
        "    elif(np.argmax(Predictions) == 6):\n",
        "        status = \"Surprise\"\n",
        "        \n",
        "        x1, y1, w1, h1 = 0,0,175,75\n",
        "        cv2.rectangle(frame, (x1, x1), (x1+ w1, y1 + h1), (0,0,0), -1)\n",
        "        \n",
        "        cv2.putText(frame, status, (x1 + int(w1/10), y1 + int(h1/10)), cv2.FONT_HERSHEY_SIMPLEX, 0.7, (0,0,225), 2)\n",
        "        \n",
        "        cv2.putText(frame, status, (100,150), font, 3, (0,0,225), 2, cv2.LINE_4)\n",
        "        \n",
        "        cv2.rectangle(frame, (x,y), (x + w, y + h), (0, 0, 225))\n",
        "    else:\n",
        "        status = \"Nuetral\"\n",
        "        \n",
        "        x1, y1, w1, h1 = 0,0,175,75\n",
        "        cv2.rectangle(frame, (x1, x1), (x1+ w1, y1 + h1), (0,0,0), -1)\n",
        "        \n",
        "        cv2.putText(frame, status, (x1 + int(w1/10), y1 + int(h1/10)), cv2.FONT_HERSHEY_SIMPLEX, 0.7, (0,0,225), 2)\n",
        "        \n",
        "        cv2.putText(frame, status, (100,150), font, 3, (0,0,225), 2, cv2.LINE_4)\n",
        "        \n",
        "        cv2.rectangle(frame, (x,y), (x + w, y + h), (0, 225, 0))\n",
        "    \n",
        "    \n",
        "    cv2.imshow(\"face emotion recognition\", frame)\n",
        "    \n",
        "    if cv2.waitKey(2) & 0xFF == ord('q'):\n",
        "        break\n",
        "\n",
        "cap.release()\n",
        "cv2.destroyAllWindows()"
      ],
      "execution_count": 155,
      "outputs": [
        {
          "output_type": "error",
          "ename": "OSError",
          "evalue": "ignored",
          "traceback": [
            "\u001b[0;31m---------------------------------------------------------------------------\u001b[0m",
            "\u001b[0;31mOSError\u001b[0m                                   Traceback (most recent call last)",
            "\u001b[0;32m<ipython-input-155-2743c3e3c467>\u001b[0m in \u001b[0;36m<module>\u001b[0;34m()\u001b[0m\n\u001b[1;32m     26\u001b[0m     \u001b[0mcap\u001b[0m \u001b[0;34m=\u001b[0m \u001b[0mcv2\u001b[0m\u001b[0;34m.\u001b[0m\u001b[0mVideoCapture\u001b[0m\u001b[0;34m(\u001b[0m\u001b[0;36m0\u001b[0m\u001b[0;34m)\u001b[0m\u001b[0;34m\u001b[0m\u001b[0;34m\u001b[0m\u001b[0m\n\u001b[1;32m     27\u001b[0m \u001b[0;32mif\u001b[0m \u001b[0;32mnot\u001b[0m \u001b[0mcap\u001b[0m\u001b[0;34m.\u001b[0m\u001b[0misOpened\u001b[0m\u001b[0;34m(\u001b[0m\u001b[0;34m)\u001b[0m\u001b[0;34m:\u001b[0m\u001b[0;34m\u001b[0m\u001b[0;34m\u001b[0m\u001b[0m\n\u001b[0;32m---> 28\u001b[0;31m     \u001b[0;32mraise\u001b[0m \u001b[0mIOError\u001b[0m\u001b[0;34m(\u001b[0m\u001b[0;34m\"Cannot open Webcam\"\u001b[0m\u001b[0;34m)\u001b[0m\u001b[0;34m\u001b[0m\u001b[0;34m\u001b[0m\u001b[0m\n\u001b[0m\u001b[1;32m     29\u001b[0m \u001b[0;34m\u001b[0m\u001b[0m\n\u001b[1;32m     30\u001b[0m \u001b[0;32mwhile\u001b[0m \u001b[0;32mTrue\u001b[0m\u001b[0;34m:\u001b[0m\u001b[0;34m\u001b[0m\u001b[0;34m\u001b[0m\u001b[0m\n",
            "\u001b[0;31mOSError\u001b[0m: Cannot open Webcam"
          ]
        }
      ]
    }
  ]
}